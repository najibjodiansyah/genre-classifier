{
 "cells": [
  {
   "cell_type": "code",
   "execution_count": 19,
   "metadata": {},
   "outputs": [
    {
     "data": {
      "text/plain": [
       "array([[20, 1, 'HipHop'],\n",
       "       [23, 1, 'HipHop'],\n",
       "       [25, 1, 'HipHop'],\n",
       "       [26, 1, 'Jazz'],\n",
       "       [29, 1, 'Jazz'],\n",
       "       [30, 1, 'Jazz'],\n",
       "       [31, 1, 'Classical'],\n",
       "       [33, 1, 'Classical'],\n",
       "       [37, 1, 'Classical'],\n",
       "       [20, 0, 'Dance'],\n",
       "       [21, 0, 'Dance'],\n",
       "       [25, 0, 'Dance'],\n",
       "       [26, 0, 'Acoustic'],\n",
       "       [27, 0, 'Acoustic'],\n",
       "       [30, 0, 'Acoustic'],\n",
       "       [31, 0, 'Classical'],\n",
       "       [34, 0, 'Classical'],\n",
       "       [35, 0, 'Classical']], dtype=object)"
      ]
     },
     "execution_count": 19,
     "metadata": {},
     "output_type": "execute_result"
    }
   ],
   "source": [
    "# MOSH\n",
    "import pandas as pd\n",
    "\n",
    "# Read/ Import the data\n",
    "df = pd.read_csv('music.csv')\n",
    "df\n",
    "df.shape\n",
    "df.describe()\n",
    "df.values"
   ]
  },
  {
   "cell_type": "code",
   "execution_count": 20,
   "metadata": {},
   "outputs": [],
   "source": [
    "# Clean the Data\n",
    "X = df.drop(columns=['genre'])\n",
    "Y = df['genre']\n",
    "Y\n",
    "\n",
    "# Split data to training and testing\n",
    "from sklearn.model_selection import train_test_split\n",
    "X_train, X_test, Y_train, Y_test = train_test_split(X, Y, test_size=0.2) # 20% of the data is used for testing"
   ]
  },
  {
   "cell_type": "code",
   "execution_count": 21,
   "metadata": {},
   "outputs": [
    {
     "data": {
      "text/plain": [
       "1.0"
      ]
     },
     "execution_count": 21,
     "metadata": {},
     "output_type": "execute_result"
    }
   ],
   "source": [
    "# Create the Model \n",
    "from sklearn.tree import DecisionTreeClassifier\n",
    "model = DecisionTreeClassifier()\n",
    "# Train the Model\n",
    "model.fit(X_train, Y_train)\n",
    "# Make Predictions\n",
    "predictions = model.predict(X_test)\n",
    "predictions\n",
    "# Evaluate and Improve\n",
    "# calculate accuracy\n",
    "from sklearn.metrics import accuracy_score\n",
    "score = accuracy_score(Y_test, predictions)\n",
    "score\n",
    "\n"
   ]
  },
  {
   "cell_type": "code",
   "execution_count": null,
   "metadata": {},
   "outputs": [],
   "source": [
    "# visualization\n",
    "from sklearn import tree\n",
    "tree.export_graphviz(model, out_file='music-recommender.dot',\n",
    "                        feature_names=['age','gender'],\n",
    "                        class_names=sorted(Y.unique()),\n",
    "                        label='all',\n",
    "                        rounded=True,\n",
    "                        filled=True)\n"
   ]
  }
 ],
 "metadata": {
  "kernelspec": {
   "display_name": "Python 3.6.5 64-bit ('3.6.5')",
   "language": "python",
   "name": "python3"
  },
  "language_info": {
   "codemirror_mode": {
    "name": "ipython",
    "version": 3
   },
   "file_extension": ".py",
   "mimetype": "text/x-python",
   "name": "python",
   "nbconvert_exporter": "python",
   "pygments_lexer": "ipython3",
   "version": "3.6.5"
  },
  "orig_nbformat": 4,
  "vscode": {
   "interpreter": {
    "hash": "b468f3e66f862504e0a0c6777d3eaeb7b6709cb899213ec016d158da3cea3343"
   }
  }
 },
 "nbformat": 4,
 "nbformat_minor": 2
}
